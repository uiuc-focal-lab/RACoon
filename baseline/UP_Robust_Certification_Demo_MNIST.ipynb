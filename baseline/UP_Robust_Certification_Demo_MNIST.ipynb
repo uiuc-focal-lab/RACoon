{
 "cells": [
  {
   "cell_type": "code",
   "execution_count": 1,
   "id": "3df6ae53",
   "metadata": {},
   "outputs": [],
   "source": [
    "import torch\n",
    "import numpy as np\n",
    "import random\n",
    "\n",
    "device = 'cuda:2' if torch.cuda.is_available else 'cpu'"
   ]
  },
  {
   "cell_type": "code",
   "execution_count": 2,
   "metadata": {},
   "outputs": [
    {
     "data": {
      "text/plain": [
       "'cuda:2'"
      ]
     },
     "execution_count": 2,
     "metadata": {},
     "output_type": "execute_result"
    }
   ],
   "source": [
    "device"
   ]
  },
  {
   "cell_type": "code",
   "execution_count": 2,
   "id": "efedfbb1",
   "metadata": {},
   "outputs": [
    {
     "name": "stderr",
     "output_type": "stream",
     "text": [
      "/opt/anaconda/envs/nn_verify/lib/python3.10/site-packages/torchvision/io/image.py:13: UserWarning: Failed to load image Python extension: /opt/anaconda/envs/nn_verify/lib/python3.10/site-packages/torchvision/image.so: undefined symbol: _ZN5torch3jit17parseSchemaOrNameERKNSt7__cxx1112basic_stringIcSt11char_traitsIcESaIcEEE\n",
      "  warn(f\"Failed to load image Python extension: {e}\")\n"
     ]
    }
   ],
   "source": [
    "from auto_LiRPA import BoundedModule, PerturbationLpNorm, BoundedTensor\n",
    "from auto_LiRPA.utils import get_spec_matrix\n",
    "from cert_util import min_correct_with_eps, load_data, DeltaWrapper\n",
    "\n",
    "from model_defs import mnist_cnn_4layer,mnist_conv_small,mnist_conv_big"
   ]
  },
  {
   "cell_type": "code",
   "execution_count": 16,
   "metadata": {},
   "outputs": [],
   "source": [
    "import sys"
   ]
  },
  {
   "cell_type": "code",
   "execution_count": 22,
   "metadata": {},
   "outputs": [],
   "source": [
    "sys.path.append('/home/debangshu/uap-robustness/')"
   ]
  },
  {
   "cell_type": "code",
   "execution_count": 23,
   "metadata": {},
   "outputs": [],
   "source": [
    "import src.util as util"
   ]
  },
  {
   "cell_type": "code",
   "execution_count": 19,
   "metadata": {},
   "outputs": [
    {
     "data": {
      "text/plain": [
       "['/home/debangshu/uap-robustness/baseline/Universal_Pert_Cert',\n",
       " '/opt/anaconda/envs/nn_verify/lib/python310.zip',\n",
       " '/opt/anaconda/envs/nn_verify/lib/python3.10',\n",
       " '/opt/anaconda/envs/nn_verify/lib/python3.10/lib-dynload',\n",
       " '',\n",
       " '/home/debangshu/.local/lib/python3.10/site-packages',\n",
       " '/opt/anaconda/envs/nn_verify/lib/python3.10/site-packages',\n",
       " '/opt/anaconda/envs/nn_verify/lib/python3.10/site-packages/PyQt5_sip-12.11.0-py3.10-linux-x86_64.egg',\n",
       " '/opt/anaconda/envs/nn_verify/lib/python3.10/site-packages/auto_LiRPA-0.3.1-py3.10.egg',\n",
       " '/opt/anaconda/envs/nn_verify/lib/python3.10/site-packages/torch-1.12.1-py3.10-linux-x86_64.egg',\n",
       " '/opt/anaconda/envs/nn_verify/lib/python3.10/site-packages/mpmath-1.2.1-py3.10.egg',\n",
       " '/home/debangshu/uap-robustness/']"
      ]
     },
     "execution_count": 19,
     "metadata": {},
     "output_type": "execute_result"
    }
   ],
   "source": [
    "sys.path"
   ]
  },
  {
   "cell_type": "code",
   "execution_count": 3,
   "id": "9c68df4b",
   "metadata": {},
   "outputs": [],
   "source": [
    "def bounded_results(new_image, eps, C, bounded_model):\n",
    "    ptb = PerturbationLpNorm(norm = np.inf, eps = eps)\n",
    "    # bounded_delta = BoundedTensor(delta, ptb)\n",
    "    bounded_images = BoundedTensor(new_image, ptb)\n",
    "    final_name = bounded_model.final_name\n",
    "    input_name = '/input.1' \n",
    "\n",
    "    result = bounded_model.compute_bounds(\n",
    "        x=(bounded_images,), method='CROWN-Optimized', C=C,\n",
    "        return_A=True, \n",
    "        needed_A_dict={ final_name: [input_name] },\n",
    "    )\n",
    "    lower, upper, A_dict = result\n",
    "    lA = A_dict[final_name][input_name]['lA']\n",
    "    uA = A_dict[final_name][input_name]['uA']\n",
    "\n",
    "    lb = lower - ptb.concretize(delta, lA, sign=-1)\n",
    "    ub = upper - ptb.concretize(delta, uA, sign=1)\n",
    "\n",
    "\n",
    "    lA = torch.reshape(lA,(min(eval_num,10), num_cls-1,-1))\n",
    "    return lA,lb,lower"
   ]
  },
  {
   "cell_type": "markdown",
   "id": "e49f3324",
   "metadata": {},
   "source": [
    "### Reproducibility"
   ]
  },
  {
   "cell_type": "code",
   "execution_count": 4,
   "id": "2851b31e",
   "metadata": {},
   "outputs": [],
   "source": [
    "my_seed = 1\n",
    "torch.cuda.empty_cache()\n",
    "torch.manual_seed(my_seed)\n",
    "random.seed(my_seed)\n",
    "np.random.seed(my_seed)"
   ]
  },
  {
   "cell_type": "markdown",
   "id": "278de414",
   "metadata": {},
   "source": [
    "### Hyperparameters "
   ]
  },
  {
   "cell_type": "code",
   "execution_count": 5,
   "id": "59e0ce74",
   "metadata": {},
   "outputs": [],
   "source": [
    "eval_num = 30\n",
    "num_cls = 10\n",
    "adv_e = 8\n",
    "\n",
    "# MNIST models, one can choose from 'mnist_conv_small', 'mnist_cnn_4layer', 'mnist_conv_big'\n",
    "model_name = \"mnist_conv_small\" "
   ]
  },
  {
   "cell_type": "markdown",
   "id": "97628c8a",
   "metadata": {},
   "source": [
    "### Loadding the model for certification"
   ]
  },
  {
   "cell_type": "code",
   "execution_count": 6,
   "id": "5afbddb5",
   "metadata": {},
   "outputs": [
    {
     "data": {
      "text/plain": [
       "<All keys matched successfully>"
      ]
     },
     "execution_count": 6,
     "metadata": {},
     "output_type": "execute_result"
    }
   ],
   "source": [
    "net = eval(model_name)()\n",
    "net.load_state_dict(torch.load('./'+model_name+'.pth'))"
   ]
  },
  {
   "cell_type": "markdown",
   "id": "8bd09d00",
   "metadata": {},
   "source": [
    "### Loading a batch of data"
   ]
  },
  {
   "cell_type": "code",
   "execution_count": 7,
   "id": "ef02374b",
   "metadata": {},
   "outputs": [],
   "source": [
    "new_image, new_label = load_data(num_imgs=eval_num, random=False, dataset='MNIST')\n",
    "new_image = new_image.to(device)\n",
    "C = get_spec_matrix(new_image,new_label.long(),10)"
   ]
  },
  {
   "cell_type": "code",
   "execution_count": 9,
   "id": "c781baff",
   "metadata": {},
   "outputs": [
    {
     "name": "stdout",
     "output_type": "stream",
     "text": [
      "torch.Size([30, 1, 28, 28])\n",
      "torch.Size([30, 9, 10])\n"
     ]
    }
   ],
   "source": [
    "print(new_image.shape)\n",
    "print(C.shape)"
   ]
  },
  {
   "cell_type": "markdown",
   "id": "b77df20d",
   "metadata": {},
   "source": [
    "### Model concretization"
   ]
  },
  {
   "cell_type": "code",
   "execution_count": 8,
   "id": "6694ebc2",
   "metadata": {},
   "outputs": [
    {
     "name": "stderr",
     "output_type": "stream",
     "text": [
      "/opt/anaconda/envs/nn_verify/lib/python3.10/site-packages/auto_LiRPA-0.3.1-py3.10.egg/auto_LiRPA/parse_graph.py:147: FutureWarning: 'torch.onnx.symbolic_helper._set_opset_version' is deprecated in version 1.13 and will be removed in version 1.14. Please remove its usage and avoid setting internal variables directly.\n",
      "  _set_opset_version(12)\n",
      "/opt/anaconda/envs/nn_verify/lib/python3.10/site-packages/auto_LiRPA-0.3.1-py3.10.egg/auto_LiRPA/parse_graph.py:45: FutureWarning: 'torch.onnx._patch_torch._node_getitem' is deprecated in version 1.13 and will be removed in version 1.14. Please Internally use '_node_get' in symbolic_helper instead..\n",
      "  attrs = {k: n[k] for k in n.attributeNames()}\n"
     ]
    }
   ],
   "source": [
    "# eps = 0.03\n",
    "# delta = torch.zeros_like(new_image[0]).unsqueeze(0)\n",
    "# dummy_input = (new_image, delta)\n",
    "# model = DeltaWrapper(net.to(device))\n",
    "# bounded_model = BoundedModule(model, dummy_input)\n",
    "# bounded_model.eval()\n",
    "# final_name = bounded_model.final_name\n",
    "eps = 0.06\n",
    "delta = torch.zeros_like(new_image[0]).unsqueeze(0)\n",
    "dummy_input = (new_image[:10])\n",
    "model = net.to(device)\n",
    "bounded_model = BoundedModule(model, dummy_input)\n",
    "bounded_model.eval()\n",
    "final_name = bounded_model.final_name"
   ]
  },
  {
   "cell_type": "markdown",
   "id": "f9c57f48",
   "metadata": {},
   "source": [
    "### Results and comparision "
   ]
  },
  {
   "cell_type": "code",
   "execution_count": 17,
   "id": "88c16e52",
   "metadata": {},
   "outputs": [
    {
     "name": "stdout",
     "output_type": "stream",
     "text": [
      "BoundedModule(\n",
      "  (/input.1): BoundInput(name=\"/input.1\")\n",
      "  (/1): BoundParams(name=\"/1\")\n",
      "  (/2): BoundParams(name=\"/2\")\n",
      "  (/3): BoundParams(name=\"/3\")\n",
      "  (/4): BoundParams(name=\"/4\")\n",
      "  (/5): BoundParams(name=\"/5\")\n",
      "  (/6): BoundParams(name=\"/6\")\n",
      "  (/7): BoundParams(name=\"/7\")\n",
      "  (/8): BoundParams(name=\"/8\")\n",
      "  (/input): BoundConv(name=\"/input\")\n",
      "  (/input.4): BoundRelu(name=\"/input.4\")\n",
      "  (/input.8): BoundConv(name=\"/input.8\")\n",
      "  (/12): BoundRelu(name=\"/12\")\n",
      "  (/13): BoundConstant(name=\"/13\")\n",
      "  (/14): BoundConstant(name=\"/14\")\n",
      "  (/15): BoundUnsqueeze(name=\"/15\")\n",
      "  (/16): BoundUnsqueeze(name=\"/16\")\n",
      "  (/17): BoundConcat(name=\"/17\")\n",
      "  (/18): BoundReshape(name=\"/18\")\n",
      "  (/input.12): BoundLinear(name=\"/input.12\")\n",
      "  (/20): BoundRelu(name=\"/20\")\n",
      "  (/21): BoundLinear(name=\"/21\")\n",
      ")\n"
     ]
    }
   ],
   "source": [
    "print(bounded_model)"
   ]
  },
  {
   "cell_type": "code",
   "execution_count": 9,
   "id": "a47052ba",
   "metadata": {},
   "outputs": [
    {
     "name": "stdout",
     "output_type": "stream",
     "text": [
      "Eps: 0.06\n",
      "batch size 10\n",
      "batch size 10\n",
      "batch size 10\n",
      "shape torch.Size([16, 13, 13])\n",
      "sparse alpha shape torch.Size([32, 10, 2280])\n",
      "Full alpha shape torch.Size([32, 10, 16, 13, 13])\n",
      "shape torch.Size([32, 5, 5])\n",
      "sparse alpha shape torch.Size([100, 10, 32, 5, 5])\n",
      "Full alpha shape torch.Size([100, 10, 32, 5, 32, 5, 5])\n"
     ]
    },
    {
     "ename": "RuntimeError",
     "evalue": "shape mismatch: value tensor of shape [100, 10, 32, 5, 5] cannot be broadcast to indexing result of shape [100, 10, 794, 5, 5]",
     "output_type": "error",
     "traceback": [
      "\u001b[0;31m---------------------------------------------------------------------------\u001b[0m",
      "\u001b[0;31mRuntimeError\u001b[0m                              Traceback (most recent call last)",
      "Cell \u001b[0;32mIn[9], line 9\u001b[0m\n\u001b[1;32m      5\u001b[0m C_temp \u001b[38;5;241m=\u001b[39m C[i:\u001b[38;5;28mmin\u001b[39m(i\u001b[38;5;241m+\u001b[39m\u001b[38;5;241m10\u001b[39m, eval_num)]\n\u001b[1;32m      6\u001b[0m \u001b[38;5;66;03m# print(f'image temp shape {new_image_temp.shape}')\u001b[39;00m\n\u001b[1;32m      7\u001b[0m \u001b[38;5;66;03m# print(f'C temp shape {C_temp.shape}')\u001b[39;00m\n\u001b[0;32m----> 9\u001b[0m alpha,beta,result \u001b[38;5;241m=\u001b[39m \u001b[43mbounded_results\u001b[49m\u001b[43m(\u001b[49m\u001b[43mnew_image\u001b[49m\u001b[43m[\u001b[49m\u001b[43m:\u001b[49m\u001b[38;5;241;43m10\u001b[39;49m\u001b[43m]\u001b[49m\u001b[43m,\u001b[49m\u001b[43m \u001b[49m\u001b[43meps\u001b[49m\u001b[43m,\u001b[49m\u001b[43m \u001b[49m\u001b[43mC\u001b[49m\u001b[43m[\u001b[49m\u001b[43m:\u001b[49m\u001b[38;5;241;43m10\u001b[39;49m\u001b[43m]\u001b[49m\u001b[43m,\u001b[49m\u001b[43m \u001b[49m\u001b[43mbounded_model\u001b[49m\u001b[43m)\u001b[49m\n\u001b[1;32m     10\u001b[0m samp_ACC \u001b[38;5;241m=\u001b[39m torch\u001b[38;5;241m.\u001b[39msum(result\u001b[38;5;241m.\u001b[39mdetach()\u001b[38;5;241m.\u001b[39mcpu()\u001b[38;5;241m.\u001b[39mmin(axis\u001b[38;5;241m=\u001b[39m\u001b[38;5;241m1\u001b[39m)[\u001b[38;5;241m0\u001b[39m] \u001b[38;5;241m>\u001b[39m \u001b[38;5;241m0\u001b[39m)\u001b[38;5;241m.\u001b[39mnumpy()\n\u001b[1;32m     11\u001b[0m samp_ACC \u001b[38;5;241m=\u001b[39m samp_ACC \u001b[38;5;241m/\u001b[39m eval_num \u001b[38;5;241m*\u001b[39m \u001b[38;5;241m100.0\u001b[39m  \n",
      "Cell \u001b[0;32mIn[3], line 8\u001b[0m, in \u001b[0;36mbounded_results\u001b[0;34m(new_image, eps, C, bounded_model)\u001b[0m\n\u001b[1;32m      5\u001b[0m final_name \u001b[38;5;241m=\u001b[39m bounded_model\u001b[38;5;241m.\u001b[39mfinal_name\n\u001b[1;32m      6\u001b[0m input_name \u001b[38;5;241m=\u001b[39m \u001b[38;5;124m'\u001b[39m\u001b[38;5;124m/input.1\u001b[39m\u001b[38;5;124m'\u001b[39m \n\u001b[0;32m----> 8\u001b[0m result \u001b[38;5;241m=\u001b[39m \u001b[43mbounded_model\u001b[49m\u001b[38;5;241;43m.\u001b[39;49m\u001b[43mcompute_bounds\u001b[49m\u001b[43m(\u001b[49m\n\u001b[1;32m      9\u001b[0m \u001b[43m    \u001b[49m\u001b[43mx\u001b[49m\u001b[38;5;241;43m=\u001b[39;49m\u001b[43m(\u001b[49m\u001b[43mbounded_images\u001b[49m\u001b[43m,\u001b[49m\u001b[43m)\u001b[49m\u001b[43m,\u001b[49m\u001b[43m \u001b[49m\u001b[43mmethod\u001b[49m\u001b[38;5;241;43m=\u001b[39;49m\u001b[38;5;124;43m'\u001b[39;49m\u001b[38;5;124;43mCROWN-Optimized\u001b[39;49m\u001b[38;5;124;43m'\u001b[39;49m\u001b[43m,\u001b[49m\u001b[43m \u001b[49m\u001b[43mC\u001b[49m\u001b[38;5;241;43m=\u001b[39;49m\u001b[43mC\u001b[49m\u001b[43m,\u001b[49m\n\u001b[1;32m     10\u001b[0m \u001b[43m    \u001b[49m\u001b[43mreturn_A\u001b[49m\u001b[38;5;241;43m=\u001b[39;49m\u001b[38;5;28;43;01mTrue\u001b[39;49;00m\u001b[43m,\u001b[49m\u001b[43m \u001b[49m\n\u001b[1;32m     11\u001b[0m \u001b[43m    \u001b[49m\u001b[43mneeded_A_dict\u001b[49m\u001b[38;5;241;43m=\u001b[39;49m\u001b[43m{\u001b[49m\u001b[43m \u001b[49m\u001b[43mfinal_name\u001b[49m\u001b[43m:\u001b[49m\u001b[43m \u001b[49m\u001b[43m[\u001b[49m\u001b[43minput_name\u001b[49m\u001b[43m]\u001b[49m\u001b[43m \u001b[49m\u001b[43m}\u001b[49m\u001b[43m,\u001b[49m\n\u001b[1;32m     12\u001b[0m \u001b[43m\u001b[49m\u001b[43m)\u001b[49m\n\u001b[1;32m     13\u001b[0m lower, upper, A_dict \u001b[38;5;241m=\u001b[39m result\n\u001b[1;32m     14\u001b[0m lA \u001b[38;5;241m=\u001b[39m A_dict[final_name][input_name][\u001b[38;5;124m'\u001b[39m\u001b[38;5;124mlA\u001b[39m\u001b[38;5;124m'\u001b[39m]\n",
      "File \u001b[0;32m/opt/anaconda/envs/nn_verify/lib/python3.10/site-packages/auto_LiRPA-0.3.1-py3.10.egg/auto_LiRPA/bound_general.py:1188\u001b[0m, in \u001b[0;36mBoundedModule.compute_bounds\u001b[0;34m(self, x, aux, C, method, IBP, forward, bound_lower, bound_upper, reuse_ibp, reuse_alpha, return_A, needed_A_dict, final_node_name, average_A, intermediate_layer_bounds, reference_bounds, intermediate_constr, alpha_idx, aux_reference_bounds, need_A_only, cutter, decision_thresh, update_mask)\u001b[0m\n\u001b[1;32m   1186\u001b[0m     method \u001b[38;5;241m=\u001b[39m \u001b[38;5;124m'\u001b[39m\u001b[38;5;124mbackward\u001b[39m\u001b[38;5;124m'\u001b[39m\n\u001b[1;32m   1187\u001b[0m \u001b[38;5;28;01mif\u001b[39;00m bound_lower:\n\u001b[0;32m-> 1188\u001b[0m     ret1 \u001b[38;5;241m=\u001b[39m \u001b[38;5;28;43mself\u001b[39;49m\u001b[38;5;241;43m.\u001b[39;49m\u001b[43mget_optimized_bounds\u001b[49m\u001b[43m(\u001b[49m\n\u001b[1;32m   1189\u001b[0m \u001b[43m        \u001b[49m\u001b[43mx\u001b[49m\u001b[38;5;241;43m=\u001b[39;49m\u001b[43mx\u001b[49m\u001b[43m,\u001b[49m\u001b[43m \u001b[49m\u001b[43mC\u001b[49m\u001b[38;5;241;43m=\u001b[39;49m\u001b[43mC\u001b[49m\u001b[43m,\u001b[49m\u001b[43m \u001b[49m\u001b[43mmethod\u001b[49m\u001b[38;5;241;43m=\u001b[39;49m\u001b[43mmethod\u001b[49m\u001b[43m,\u001b[49m\n\u001b[1;32m   1190\u001b[0m \u001b[43m        \u001b[49m\u001b[43mintermediate_layer_bounds\u001b[49m\u001b[38;5;241;43m=\u001b[39;49m\u001b[43mintermediate_layer_bounds\u001b[49m\u001b[43m,\u001b[49m\n\u001b[1;32m   1191\u001b[0m \u001b[43m        \u001b[49m\u001b[43mreference_bounds\u001b[49m\u001b[38;5;241;43m=\u001b[39;49m\u001b[43mreference_bounds\u001b[49m\u001b[43m,\u001b[49m\u001b[43m \u001b[49m\u001b[43mbound_lower\u001b[49m\u001b[38;5;241;43m=\u001b[39;49m\u001b[43mbound_lower\u001b[49m\u001b[43m,\u001b[49m\n\u001b[1;32m   1192\u001b[0m \u001b[43m        \u001b[49m\u001b[43mbound_upper\u001b[49m\u001b[38;5;241;43m=\u001b[39;49m\u001b[38;5;28;43;01mFalse\u001b[39;49;00m\u001b[43m,\u001b[49m\u001b[43m \u001b[49m\u001b[43mreturn_A\u001b[49m\u001b[38;5;241;43m=\u001b[39;49m\u001b[43mreturn_A\u001b[49m\u001b[43m,\u001b[49m\n\u001b[1;32m   1193\u001b[0m \u001b[43m        \u001b[49m\u001b[43maux_reference_bounds\u001b[49m\u001b[38;5;241;43m=\u001b[39;49m\u001b[43maux_reference_bounds\u001b[49m\u001b[43m,\u001b[49m\n\u001b[1;32m   1194\u001b[0m \u001b[43m        \u001b[49m\u001b[43mneeded_A_dict\u001b[49m\u001b[38;5;241;43m=\u001b[39;49m\u001b[43mneeded_A_dict\u001b[49m\u001b[43m,\u001b[49m\n\u001b[1;32m   1195\u001b[0m \u001b[43m        \u001b[49m\u001b[43mfinal_node_name\u001b[49m\u001b[38;5;241;43m=\u001b[39;49m\u001b[43mfinal_node_name\u001b[49m\u001b[43m,\u001b[49m\n\u001b[1;32m   1196\u001b[0m \u001b[43m        \u001b[49m\u001b[43mcutter\u001b[49m\u001b[38;5;241;43m=\u001b[39;49m\u001b[43mcutter\u001b[49m\u001b[43m,\u001b[49m\u001b[43m \u001b[49m\u001b[43mdecision_thresh\u001b[49m\u001b[38;5;241;43m=\u001b[39;49m\u001b[43mdecision_thresh\u001b[49m\u001b[43m)\u001b[49m\n\u001b[1;32m   1197\u001b[0m \u001b[38;5;28;01mif\u001b[39;00m bound_upper:\n\u001b[1;32m   1198\u001b[0m     ret2 \u001b[38;5;241m=\u001b[39m \u001b[38;5;28mself\u001b[39m\u001b[38;5;241m.\u001b[39mget_optimized_bounds(\n\u001b[1;32m   1199\u001b[0m         x\u001b[38;5;241m=\u001b[39mx, C\u001b[38;5;241m=\u001b[39mC, method\u001b[38;5;241m=\u001b[39mmethod,\n\u001b[1;32m   1200\u001b[0m         intermediate_layer_bounds\u001b[38;5;241m=\u001b[39mintermediate_layer_bounds,\n\u001b[0;32m   (...)\u001b[0m\n\u001b[1;32m   1205\u001b[0m         final_node_name\u001b[38;5;241m=\u001b[39mfinal_node_name,\n\u001b[1;32m   1206\u001b[0m         cutter\u001b[38;5;241m=\u001b[39mcutter, decision_thresh\u001b[38;5;241m=\u001b[39mdecision_thresh)\n",
      "File \u001b[0;32m/opt/anaconda/envs/nn_verify/lib/python3.10/site-packages/auto_LiRPA-0.3.1-py3.10.egg/auto_LiRPA/optimized_bounds.py:578\u001b[0m, in \u001b[0;36mget_optimized_bounds\u001b[0;34m(self, x, aux, C, IBP, forward, method, bound_lower, bound_upper, reuse_ibp, return_A, average_A, final_node_name, intermediate_layer_bounds, reference_bounds, aux_reference_bounds, needed_A_dict, cutter, decision_thresh, epsilon_over_decision_thresh)\u001b[0m\n\u001b[1;32m    575\u001b[0m     \u001b[38;5;28;01melse\u001b[39;00m:\n\u001b[1;32m    576\u001b[0m         arg_arb \u001b[38;5;241m=\u001b[39m \u001b[38;5;28;01mNone\u001b[39;00m\n\u001b[0;32m--> 578\u001b[0m     ret \u001b[38;5;241m=\u001b[39m \u001b[38;5;28;43mself\u001b[39;49m\u001b[38;5;241;43m.\u001b[39;49m\u001b[43mcompute_bounds\u001b[49m\u001b[43m(\u001b[49m\n\u001b[1;32m    579\u001b[0m \u001b[43m        \u001b[49m\u001b[43mx\u001b[49m\u001b[43m,\u001b[49m\u001b[43m \u001b[49m\u001b[43maux\u001b[49m\u001b[43m,\u001b[49m\u001b[43m \u001b[49m\u001b[43mC\u001b[49m\u001b[43m,\u001b[49m\u001b[43m \u001b[49m\u001b[43mmethod\u001b[49m\u001b[38;5;241;43m=\u001b[39;49m\u001b[43mmethod\u001b[49m\u001b[43m,\u001b[49m\u001b[43m \u001b[49m\u001b[43mIBP\u001b[49m\u001b[38;5;241;43m=\u001b[39;49m\u001b[43mIBP\u001b[49m\u001b[43m,\u001b[49m\u001b[43m \u001b[49m\u001b[43mforward\u001b[49m\u001b[38;5;241;43m=\u001b[39;49m\u001b[43mforward\u001b[49m\u001b[43m,\u001b[49m\n\u001b[1;32m    580\u001b[0m \u001b[43m        \u001b[49m\u001b[43mbound_lower\u001b[49m\u001b[38;5;241;43m=\u001b[39;49m\u001b[43mbound_lower\u001b[49m\u001b[43m,\u001b[49m\u001b[43m \u001b[49m\u001b[43mbound_upper\u001b[49m\u001b[38;5;241;43m=\u001b[39;49m\u001b[43mbound_upper\u001b[49m\u001b[43m,\u001b[49m\n\u001b[1;32m    581\u001b[0m \u001b[43m        \u001b[49m\u001b[43mreuse_ibp\u001b[49m\u001b[38;5;241;43m=\u001b[39;49m\u001b[43mreuse_ibp\u001b[49m\u001b[43m,\u001b[49m\u001b[43m \u001b[49m\u001b[43mreturn_A\u001b[49m\u001b[38;5;241;43m=\u001b[39;49m\u001b[43mreturn_A\u001b[49m\u001b[43m,\u001b[49m\n\u001b[1;32m    582\u001b[0m \u001b[43m        \u001b[49m\u001b[43mfinal_node_name\u001b[49m\u001b[38;5;241;43m=\u001b[39;49m\u001b[43mfinal_node_name\u001b[49m\u001b[43m,\u001b[49m\u001b[43m \u001b[49m\u001b[43maverage_A\u001b[49m\u001b[38;5;241;43m=\u001b[39;49m\u001b[43maverage_A\u001b[49m\u001b[43m,\u001b[49m\n\u001b[1;32m    583\u001b[0m \u001b[43m        \u001b[49m\u001b[43mintermediate_layer_bounds\u001b[49m\u001b[38;5;241;43m=\u001b[39;49m\u001b[43marg_ilb\u001b[49m\u001b[43m,\u001b[49m\n\u001b[1;32m    584\u001b[0m \u001b[43m        \u001b[49m\u001b[38;5;66;43;03m# This is the currently tightest interval, which will be used to\u001b[39;49;00m\n\u001b[1;32m    585\u001b[0m \u001b[43m        \u001b[49m\u001b[38;5;66;43;03m# pass split constraints when intermediate betas are used.\u001b[39;49;00m\n\u001b[1;32m    586\u001b[0m \u001b[43m        \u001b[49m\u001b[43mreference_bounds\u001b[49m\u001b[38;5;241;43m=\u001b[39;49m\u001b[43mreference_bounds\u001b[49m\u001b[43m,\u001b[49m\n\u001b[1;32m    587\u001b[0m \u001b[43m        \u001b[49m\u001b[38;5;66;43;03m# This is the interval used for checking for unstable neurons.\u001b[39;49;00m\n\u001b[1;32m    588\u001b[0m \u001b[43m        \u001b[49m\u001b[43maux_reference_bounds\u001b[49m\u001b[38;5;241;43m=\u001b[39;49m\u001b[43marg_arb\u001b[49m\u001b[43m,\u001b[49m\n\u001b[1;32m    589\u001b[0m \u001b[43m        \u001b[49m\u001b[38;5;66;43;03m# These are intermediate layer beta variables and their\u001b[39;49;00m\n\u001b[1;32m    590\u001b[0m \u001b[43m        \u001b[49m\u001b[38;5;66;43;03m# corresponding A matrices and biases.\u001b[39;49;00m\n\u001b[1;32m    591\u001b[0m \u001b[43m        \u001b[49m\u001b[43mintermediate_constr\u001b[49m\u001b[38;5;241;43m=\u001b[39;49m\u001b[43mintermediate_constr\u001b[49m\u001b[43m,\u001b[49m\n\u001b[1;32m    592\u001b[0m \u001b[43m        \u001b[49m\u001b[43mneeded_A_dict\u001b[49m\u001b[38;5;241;43m=\u001b[39;49m\u001b[43mneeded_A_dict\u001b[49m\u001b[43m,\u001b[49m\n\u001b[1;32m    593\u001b[0m \u001b[43m        \u001b[49m\u001b[43mupdate_mask\u001b[49m\u001b[38;5;241;43m=\u001b[39;49m\u001b[43mpreserve_mask\u001b[49m\u001b[43m)\u001b[49m\n\u001b[1;32m    595\u001b[0m ret_l, ret_u \u001b[38;5;241m=\u001b[39m ret[\u001b[38;5;241m0\u001b[39m], ret[\u001b[38;5;241m1\u001b[39m]\n\u001b[1;32m    597\u001b[0m \u001b[38;5;28;01mif\u001b[39;00m (\u001b[38;5;28mself\u001b[39m\u001b[38;5;241m.\u001b[39mcut_used \u001b[38;5;129;01mand\u001b[39;00m i \u001b[38;5;241m%\u001b[39m cutter\u001b[38;5;241m.\u001b[39mlog_interval \u001b[38;5;241m==\u001b[39m \u001b[38;5;241m0\u001b[39m\n\u001b[1;32m    598\u001b[0m         \u001b[38;5;129;01mand\u001b[39;00m \u001b[38;5;28mlen\u001b[39m(\u001b[38;5;28mself\u001b[39m\u001b[38;5;241m.\u001b[39mcut_beta_params) \u001b[38;5;241m>\u001b[39m \u001b[38;5;241m0\u001b[39m):\n\u001b[1;32m    599\u001b[0m     \u001b[38;5;66;03m# betas[-1]: (2(0 lower, 1 upper), spec, batch, num_constrs)\u001b[39;00m\n",
      "File \u001b[0;32m/opt/anaconda/envs/nn_verify/lib/python3.10/site-packages/auto_LiRPA-0.3.1-py3.10.egg/auto_LiRPA/bound_general.py:1339\u001b[0m, in \u001b[0;36mBoundedModule.compute_bounds\u001b[0;34m(self, x, aux, C, method, IBP, forward, bound_lower, bound_upper, reuse_ibp, reuse_alpha, return_A, needed_A_dict, final_node_name, average_A, intermediate_layer_bounds, reference_bounds, intermediate_constr, alpha_idx, aux_reference_bounds, need_A_only, cutter, decision_thresh, update_mask)\u001b[0m\n\u001b[1;32m   1336\u001b[0m \u001b[38;5;28mself\u001b[39m\u001b[38;5;241m.\u001b[39maux_reference_bounds \u001b[38;5;241m=\u001b[39m aux_reference_bounds\n\u001b[1;32m   1337\u001b[0m \u001b[38;5;28mself\u001b[39m\u001b[38;5;241m.\u001b[39mfinal_node_name \u001b[38;5;241m=\u001b[39m final\u001b[38;5;241m.\u001b[39mname\n\u001b[0;32m-> 1339\u001b[0m \u001b[38;5;28;43mself\u001b[39;49m\u001b[38;5;241;43m.\u001b[39;49m\u001b[43mcheck_prior_bounds\u001b[49m\u001b[43m(\u001b[49m\u001b[43mfinal\u001b[49m\u001b[43m)\u001b[49m\n\u001b[1;32m   1341\u001b[0m \u001b[38;5;28;01mif\u001b[39;00m method \u001b[38;5;241m==\u001b[39m \u001b[38;5;124m'\u001b[39m\u001b[38;5;124mbackward\u001b[39m\u001b[38;5;124m'\u001b[39m:\n\u001b[1;32m   1342\u001b[0m     \u001b[38;5;66;03m# This is for the final output bound.\u001b[39;00m\n\u001b[1;32m   1343\u001b[0m     \u001b[38;5;66;03m# No need to pass in intermediate layer beta constraints.\u001b[39;00m\n\u001b[1;32m   1344\u001b[0m     ret \u001b[38;5;241m=\u001b[39m \u001b[38;5;28mself\u001b[39m\u001b[38;5;241m.\u001b[39mbackward_general(\n\u001b[1;32m   1345\u001b[0m         C\u001b[38;5;241m=\u001b[39mC, node\u001b[38;5;241m=\u001b[39mfinal,\n\u001b[1;32m   1346\u001b[0m         bound_lower\u001b[38;5;241m=\u001b[39mbound_lower, bound_upper\u001b[38;5;241m=\u001b[39mbound_upper,\n\u001b[1;32m   1347\u001b[0m         average_A\u001b[38;5;241m=\u001b[39maverage_A, need_A_only\u001b[38;5;241m=\u001b[39mneed_A_only,\n\u001b[1;32m   1348\u001b[0m         unstable_idx\u001b[38;5;241m=\u001b[39malpha_idx, update_mask\u001b[38;5;241m=\u001b[39mupdate_mask)\n",
      "File \u001b[0;32m/opt/anaconda/envs/nn_verify/lib/python3.10/site-packages/auto_LiRPA-0.3.1-py3.10.egg/auto_LiRPA/bound_general.py:883\u001b[0m, in \u001b[0;36mBoundedModule.check_prior_bounds\u001b[0;34m(self, node)\u001b[0m\n\u001b[1;32m    881\u001b[0m     \u001b[38;5;28;01mreturn\u001b[39;00m\n\u001b[1;32m    882\u001b[0m \u001b[38;5;28;01mfor\u001b[39;00m n \u001b[38;5;129;01min\u001b[39;00m node\u001b[38;5;241m.\u001b[39minputs:\n\u001b[0;32m--> 883\u001b[0m     \u001b[38;5;28;43mself\u001b[39;49m\u001b[38;5;241;43m.\u001b[39;49m\u001b[43mcheck_prior_bounds\u001b[49m\u001b[43m(\u001b[49m\u001b[43mn\u001b[49m\u001b[43m)\u001b[49m\n\u001b[1;32m    884\u001b[0m \u001b[38;5;28;01mfor\u001b[39;00m i \u001b[38;5;129;01min\u001b[39;00m \u001b[38;5;28mgetattr\u001b[39m(node, \u001b[38;5;124m'\u001b[39m\u001b[38;5;124mrequires_input_bounds\u001b[39m\u001b[38;5;124m'\u001b[39m, []):\n\u001b[1;32m    885\u001b[0m     \u001b[38;5;28mself\u001b[39m\u001b[38;5;241m.\u001b[39mcompute_intermediate_bounds(\n\u001b[1;32m    886\u001b[0m         node\u001b[38;5;241m.\u001b[39minputs[i], prior_checked\u001b[38;5;241m=\u001b[39m\u001b[38;5;28;01mTrue\u001b[39;00m)\n",
      "File \u001b[0;32m/opt/anaconda/envs/nn_verify/lib/python3.10/site-packages/auto_LiRPA-0.3.1-py3.10.egg/auto_LiRPA/bound_general.py:885\u001b[0m, in \u001b[0;36mBoundedModule.check_prior_bounds\u001b[0;34m(self, node)\u001b[0m\n\u001b[1;32m    883\u001b[0m     \u001b[38;5;28mself\u001b[39m\u001b[38;5;241m.\u001b[39mcheck_prior_bounds(n)\n\u001b[1;32m    884\u001b[0m \u001b[38;5;28;01mfor\u001b[39;00m i \u001b[38;5;129;01min\u001b[39;00m \u001b[38;5;28mgetattr\u001b[39m(node, \u001b[38;5;124m'\u001b[39m\u001b[38;5;124mrequires_input_bounds\u001b[39m\u001b[38;5;124m'\u001b[39m, []):\n\u001b[0;32m--> 885\u001b[0m     \u001b[38;5;28;43mself\u001b[39;49m\u001b[38;5;241;43m.\u001b[39;49m\u001b[43mcompute_intermediate_bounds\u001b[49m\u001b[43m(\u001b[49m\n\u001b[1;32m    886\u001b[0m \u001b[43m        \u001b[49m\u001b[43mnode\u001b[49m\u001b[38;5;241;43m.\u001b[39;49m\u001b[43minputs\u001b[49m\u001b[43m[\u001b[49m\u001b[43mi\u001b[49m\u001b[43m]\u001b[49m\u001b[43m,\u001b[49m\u001b[43m \u001b[49m\u001b[43mprior_checked\u001b[49m\u001b[38;5;241;43m=\u001b[39;49m\u001b[38;5;28;43;01mTrue\u001b[39;49;00m\u001b[43m)\u001b[49m\n\u001b[1;32m    887\u001b[0m node\u001b[38;5;241m.\u001b[39mprior_checked \u001b[38;5;241m=\u001b[39m \u001b[38;5;28;01mTrue\u001b[39;00m\n",
      "File \u001b[0;32m/opt/anaconda/envs/nn_verify/lib/python3.10/site-packages/auto_LiRPA-0.3.1-py3.10.egg/auto_LiRPA/bound_general.py:977\u001b[0m, in \u001b[0;36mBoundedModule.compute_intermediate_bounds\u001b[0;34m(self, node, prior_checked)\u001b[0m\n\u001b[1;32m    975\u001b[0m \u001b[38;5;28;01mif\u001b[39;00m unstable_idx \u001b[38;5;129;01mis\u001b[39;00m \u001b[38;5;28;01mNone\u001b[39;00m \u001b[38;5;129;01mor\u001b[39;00m unstable_size \u001b[38;5;241m>\u001b[39m \u001b[38;5;241m0\u001b[39m:\n\u001b[1;32m    976\u001b[0m     \u001b[38;5;28;01mif\u001b[39;00m \u001b[38;5;28mself\u001b[39m\u001b[38;5;241m.\u001b[39mreturn_A:\n\u001b[0;32m--> 977\u001b[0m         node\u001b[38;5;241m.\u001b[39mlower, node\u001b[38;5;241m.\u001b[39mupper, _ \u001b[38;5;241m=\u001b[39m \u001b[38;5;28;43mself\u001b[39;49m\u001b[38;5;241;43m.\u001b[39;49m\u001b[43mbackward_general\u001b[49m\u001b[43m(\u001b[49m\n\u001b[1;32m    978\u001b[0m \u001b[43m            \u001b[49m\u001b[43mC\u001b[49m\u001b[38;5;241;43m=\u001b[39;49m\u001b[43mnewC\u001b[49m\u001b[43m,\u001b[49m\u001b[43m \u001b[49m\u001b[43mnode\u001b[49m\u001b[38;5;241;43m=\u001b[39;49m\u001b[43mnode\u001b[49m\u001b[43m,\u001b[49m\u001b[43m \u001b[49m\u001b[43munstable_idx\u001b[49m\u001b[38;5;241;43m=\u001b[39;49m\u001b[43munstable_idx\u001b[49m\u001b[43m,\u001b[49m\n\u001b[1;32m    979\u001b[0m \u001b[43m            \u001b[49m\u001b[43munstable_size\u001b[49m\u001b[38;5;241;43m=\u001b[39;49m\u001b[43munstable_size\u001b[49m\u001b[43m)\u001b[49m\n\u001b[1;32m    980\u001b[0m     \u001b[38;5;28;01melse\u001b[39;00m:\n\u001b[1;32m    981\u001b[0m         \u001b[38;5;66;03m# Compute backward bounds only when there are unstable\u001b[39;00m\n\u001b[1;32m    982\u001b[0m         \u001b[38;5;66;03m# neurons, or when we don't know which neurons are unstable.\u001b[39;00m\n\u001b[1;32m    983\u001b[0m         node\u001b[38;5;241m.\u001b[39mlower, node\u001b[38;5;241m.\u001b[39mupper \u001b[38;5;241m=\u001b[39m \u001b[38;5;28mself\u001b[39m\u001b[38;5;241m.\u001b[39mbackward_general(\n\u001b[1;32m    984\u001b[0m             C\u001b[38;5;241m=\u001b[39mnewC, node\u001b[38;5;241m=\u001b[39mnode, unstable_idx\u001b[38;5;241m=\u001b[39munstable_idx,\n\u001b[1;32m    985\u001b[0m             unstable_size\u001b[38;5;241m=\u001b[39munstable_size)\n",
      "File \u001b[0;32m/opt/anaconda/envs/nn_verify/lib/python3.10/site-packages/auto_LiRPA-0.3.1-py3.10.egg/auto_LiRPA/backward_bound.py:147\u001b[0m, in \u001b[0;36mbackward_general\u001b[0;34m(self, C, node, bound_lower, bound_upper, average_A, need_A_only, unstable_idx, unstable_size, update_mask, verbose)\u001b[0m\n\u001b[1;32m    143\u001b[0m     \u001b[38;5;28;01mcontinue\u001b[39;00m\n\u001b[1;32m    145\u001b[0m \u001b[38;5;28;01mif\u001b[39;00m \u001b[38;5;28misinstance\u001b[39m(l, BoundRelu):\n\u001b[1;32m    146\u001b[0m     \u001b[38;5;66;03m# TODO: unify this interface.\u001b[39;00m\n\u001b[0;32m--> 147\u001b[0m     A, lower_b, upper_b \u001b[38;5;241m=\u001b[39m \u001b[43ml\u001b[49m\u001b[38;5;241;43m.\u001b[39;49m\u001b[43mbound_backward\u001b[49m\u001b[43m(\u001b[49m\n\u001b[1;32m    148\u001b[0m \u001b[43m        \u001b[49m\u001b[43ml\u001b[49m\u001b[38;5;241;43m.\u001b[39;49m\u001b[43mlA\u001b[49m\u001b[43m,\u001b[49m\u001b[43m \u001b[49m\u001b[43ml\u001b[49m\u001b[38;5;241;43m.\u001b[39;49m\u001b[43muA\u001b[49m\u001b[43m,\u001b[49m\u001b[43m \u001b[49m\u001b[38;5;241;43m*\u001b[39;49m\u001b[43ml\u001b[49m\u001b[38;5;241;43m.\u001b[39;49m\u001b[43minputs\u001b[49m\u001b[43m,\u001b[49m\u001b[43m \u001b[49m\u001b[43mstart_node\u001b[49m\u001b[38;5;241;43m=\u001b[39;49m\u001b[43mnode\u001b[49m\u001b[43m,\u001b[49m\u001b[43m \u001b[49m\u001b[43munstable_idx\u001b[49m\u001b[38;5;241;43m=\u001b[39;49m\u001b[43munstable_idx\u001b[49m\u001b[43m,\u001b[49m\n\u001b[1;32m    149\u001b[0m \u001b[43m        \u001b[49m\u001b[43mbeta_for_intermediate_layers\u001b[49m\u001b[38;5;241;43m=\u001b[39;49m\u001b[38;5;28;43mself\u001b[39;49m\u001b[38;5;241;43m.\u001b[39;49m\u001b[43mintermediate_constr\u001b[49m\u001b[43m \u001b[49m\u001b[38;5;129;43;01mis\u001b[39;49;00m\u001b[43m \u001b[49m\u001b[38;5;129;43;01mnot\u001b[39;49;00m\u001b[43m \u001b[49m\u001b[38;5;28;43;01mNone\u001b[39;49;00m\u001b[43m)\u001b[49m\n\u001b[1;32m    150\u001b[0m \u001b[38;5;28;01melif\u001b[39;00m \u001b[38;5;28misinstance\u001b[39m(l, BoundOptimizableActivation):\n\u001b[1;32m    151\u001b[0m     \u001b[38;5;66;03m# For other optimizable activation functions (TODO: unify with ReLU).\u001b[39;00m\n\u001b[1;32m    152\u001b[0m     \u001b[38;5;28;01mif\u001b[39;00m node\u001b[38;5;241m.\u001b[39mname \u001b[38;5;241m!=\u001b[39m \u001b[38;5;28mself\u001b[39m\u001b[38;5;241m.\u001b[39mfinal_node_name:\n",
      "File \u001b[0;32m/opt/anaconda/envs/nn_verify/lib/python3.10/site-packages/auto_LiRPA-0.3.1-py3.10.egg/auto_LiRPA/operators/activations.py:413\u001b[0m, in \u001b[0;36mBoundRelu.bound_backward\u001b[0;34m(self, last_lA, last_uA, x, start_node, beta_for_intermediate_layers, unstable_idx)\u001b[0m\n\u001b[1;32m    410\u001b[0m \u001b[38;5;28;01mdef\u001b[39;00m \u001b[38;5;21mbound_backward\u001b[39m(\u001b[38;5;28mself\u001b[39m, last_lA, last_uA, x\u001b[38;5;241m=\u001b[39m\u001b[38;5;28;01mNone\u001b[39;00m, start_node\u001b[38;5;241m=\u001b[39m\u001b[38;5;28;01mNone\u001b[39;00m, beta_for_intermediate_layers\u001b[38;5;241m=\u001b[39m\u001b[38;5;28;01mFalse\u001b[39;00m, unstable_idx\u001b[38;5;241m=\u001b[39m\u001b[38;5;28;01mNone\u001b[39;00m):\n\u001b[1;32m    411\u001b[0m     \u001b[38;5;66;03m# Get element-wise CROWN linear relaxations.\u001b[39;00m\n\u001b[1;32m    412\u001b[0m     upper_d, upper_b, lower_d, lower_b, lb_lower_d, ub_lower_d, alpha_lookup_idx \u001b[38;5;241m=\u001b[39m \\\n\u001b[0;32m--> 413\u001b[0m         \u001b[38;5;28;43mself\u001b[39;49m\u001b[38;5;241;43m.\u001b[39;49m\u001b[43m_backward_relaxation\u001b[49m\u001b[43m(\u001b[49m\u001b[43mlast_lA\u001b[49m\u001b[43m,\u001b[49m\u001b[43m \u001b[49m\u001b[43mlast_uA\u001b[49m\u001b[43m,\u001b[49m\u001b[43m \u001b[49m\u001b[43mx\u001b[49m\u001b[43m,\u001b[49m\u001b[43m \u001b[49m\u001b[43mstart_node\u001b[49m\u001b[43m,\u001b[49m\u001b[43m \u001b[49m\u001b[43munstable_idx\u001b[49m\u001b[43m)\u001b[49m\n\u001b[1;32m    414\u001b[0m     \u001b[38;5;66;03m# save for calculate babsr score\u001b[39;00m\n\u001b[1;32m    415\u001b[0m     \u001b[38;5;28mself\u001b[39m\u001b[38;5;241m.\u001b[39md \u001b[38;5;241m=\u001b[39m upper_d\n",
      "File \u001b[0;32m/opt/anaconda/envs/nn_verify/lib/python3.10/site-packages/auto_LiRPA-0.3.1-py3.10.egg/auto_LiRPA/operators/activations.py:364\u001b[0m, in \u001b[0;36mBoundRelu._backward_relaxation\u001b[0;34m(self, last_lA, last_uA, x, start_node, unstable_idx)\u001b[0m\n\u001b[1;32m    362\u001b[0m \u001b[38;5;28mprint\u001b[39m(\u001b[38;5;124mf\u001b[39m\u001b[38;5;124m'\u001b[39m\u001b[38;5;124mFull alpha shape \u001b[39m\u001b[38;5;132;01m{\u001b[39;00mfull_alpha_shape\u001b[38;5;132;01m}\u001b[39;00m\u001b[38;5;124m'\u001b[39m)\n\u001b[1;32m    363\u001b[0m \u001b[38;5;28;01mif\u001b[39;00m lb_lower_d \u001b[38;5;129;01mis\u001b[39;00m \u001b[38;5;129;01mnot\u001b[39;00m \u001b[38;5;28;01mNone\u001b[39;00m:\n\u001b[0;32m--> 364\u001b[0m     lb_lower_d \u001b[38;5;241m=\u001b[39m \u001b[43mreconstruct_full_alpha\u001b[49m\u001b[43m(\u001b[49m\u001b[43mlb_lower_d\u001b[49m\u001b[43m,\u001b[49m\u001b[43m \u001b[49m\u001b[43mfull_alpha_shape\u001b[49m\u001b[43m,\u001b[49m\u001b[43m \u001b[49m\u001b[38;5;28;43mself\u001b[39;49m\u001b[38;5;241;43m.\u001b[39;49m\u001b[43malpha_indices\u001b[49m\u001b[43m)\u001b[49m\n\u001b[1;32m    365\u001b[0m \u001b[38;5;28;01mif\u001b[39;00m ub_lower_d \u001b[38;5;129;01mis\u001b[39;00m \u001b[38;5;129;01mnot\u001b[39;00m \u001b[38;5;28;01mNone\u001b[39;00m:\n\u001b[1;32m    366\u001b[0m     ub_lower_d \u001b[38;5;241m=\u001b[39m reconstruct_full_alpha(ub_lower_d, full_alpha_shape, \u001b[38;5;28mself\u001b[39m\u001b[38;5;241m.\u001b[39malpha_indices)\n",
      "File \u001b[0;32m/opt/anaconda/envs/nn_verify/lib/python3.10/site-packages/auto_LiRPA-0.3.1-py3.10.egg/auto_LiRPA/operators/activations.py:354\u001b[0m, in \u001b[0;36mBoundRelu._backward_relaxation.<locals>.reconstruct_full_alpha\u001b[0;34m(sparse_alpha, full_alpha_shape, alpha_indices)\u001b[0m\n\u001b[1;32m    351\u001b[0m     full_alpha[:, :, alpha_indices[\u001b[38;5;241m0\u001b[39m]] \u001b[38;5;241m=\u001b[39m sparse_alpha\n\u001b[1;32m    352\u001b[0m \u001b[38;5;28;01melif\u001b[39;00m \u001b[38;5;28mlen\u001b[39m(alpha_indices) \u001b[38;5;241m==\u001b[39m \u001b[38;5;241m3\u001b[39m:\n\u001b[1;32m    353\u001b[0m     \u001b[38;5;66;03m# Relu after a conv layer.\u001b[39;00m\n\u001b[0;32m--> 354\u001b[0m     full_alpha[:, :, alpha_indices[\u001b[38;5;241m0\u001b[39m], alpha_indices[\u001b[38;5;241m1\u001b[39m], alpha_indices[\u001b[38;5;241m2\u001b[39m]] \u001b[38;5;241m=\u001b[39m sparse_alpha\n\u001b[1;32m    355\u001b[0m \u001b[38;5;28;01melse\u001b[39;00m:\n\u001b[1;32m    356\u001b[0m     \u001b[38;5;28;01mraise\u001b[39;00m \u001b[38;5;167;01mValueError\u001b[39;00m\n",
      "\u001b[0;31mRuntimeError\u001b[0m: shape mismatch: value tensor of shape [100, 10, 32, 5, 5] cannot be broadcast to indexing result of shape [100, 10, 794, 5, 5]"
     ]
    }
   ],
   "source": [
    "i = 0\n",
    "while i < eval_num:\n",
    "    print('Eps:', eps)\n",
    "    new_image_temp = new_image[i:min(i+10, eval_num)]\n",
    "    C_temp = C[i:min(i+10, eval_num)]\n",
    "    # print(f'image temp shape {new_image_temp.shape}')\n",
    "    # print(f'C temp shape {C_temp.shape}')\n",
    "\n",
    "    alpha,beta,result = bounded_results(new_image[:10], eps, C[:10], bounded_model)\n",
    "    samp_ACC = torch.sum(result.detach().cpu().min(axis=1)[0] > 0).numpy()\n",
    "    samp_ACC = samp_ACC / eval_num * 100.0  \n",
    "    print('Samp-wise Cert-ACC: {}%'.format(samp_ACC))\n",
    "\n",
    "    label = new_label\n",
    "    number_class = num_cls\n",
    "    cert_ACC, delta = min_correct_with_eps(alpha, beta, eps, label[i:min(i+10, eval_num)], number_class=10, verbose=False)\n",
    "    i += 10\n",
    "    print('UP-based Cert-ACC: {}%'.format(cert_ACC / eval_num * 100.0))"
   ]
  },
  {
   "cell_type": "code",
   "execution_count": 17,
   "id": "6ef7b839",
   "metadata": {},
   "outputs": [
    {
     "data": {
      "text/plain": [
       "torch.Size([10, 1, 28, 28])"
      ]
     },
     "execution_count": 17,
     "metadata": {},
     "output_type": "execute_result"
    }
   ],
   "source": [
    "new_image[:10].shape"
   ]
  }
 ],
 "metadata": {
  "kernelspec": {
   "display_name": "Python 3 (ipykernel)",
   "language": "python",
   "name": "python3"
  },
  "language_info": {
   "codemirror_mode": {
    "name": "ipython",
    "version": 3
   },
   "file_extension": ".py",
   "mimetype": "text/x-python",
   "name": "python",
   "nbconvert_exporter": "python",
   "pygments_lexer": "ipython3",
   "version": "3.10.10"
  }
 },
 "nbformat": 4,
 "nbformat_minor": 5
}
